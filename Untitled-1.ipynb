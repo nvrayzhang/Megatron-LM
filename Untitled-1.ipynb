{
 "cells": [
  {
   "cell_type": "code",
   "execution_count": 6,
   "metadata": {},
   "outputs": [],
   "source": [
    "import regex as re\n",
    "pat = re.compile(\n",
    "            r\"\"\"'s|'t|'re|'ve|'m|'ll|'d| ?\\p{L}+| ?\\p{N}+| ?[^\\s\\p{L}\\p{N}]+|\\s+(?!\\S)|\\s+\"\"\")"
   ]
  },
  {
   "cell_type": "code",
   "execution_count": 9,
   "metadata": {},
   "outputs": [],
   "source": [
    "sentence1 = \" Add a list of additional tokens to the encoder. The additional tokens are indexed starting from the last index of the current vocabulary in the order of the `special_tokens` list.\""
   ]
  },
  {
   "cell_type": "code",
   "execution_count": null,
   "metadata": {},
   "outputs": [],
   "source": [
    "sentence2 = 'Python 列表有一个内置的 list.sort() 方法可以直接修改列表。还有一个 sorted() 内置函数，它会从一个可迭代对象构建一个新的排序列表。'"
   ]
  },
  {
   "cell_type": "code",
   "execution_count": 8,
   "metadata": {},
   "outputs": [
    {
     "data": {
      "text/plain": [
       "[' Add',\n",
       " ' a',\n",
       " ' list',\n",
       " ' of',\n",
       " ' additional',\n",
       " ' tokens',\n",
       " ' to',\n",
       " ' the',\n",
       " ' encoder',\n",
       " '.',\n",
       " ' The',\n",
       " ' additional',\n",
       " ' tokens',\n",
       " ' are',\n",
       " ' indexed',\n",
       " ' starting',\n",
       " ' from',\n",
       " ' the',\n",
       " ' last',\n",
       " ' index',\n",
       " ' of',\n",
       " ' the',\n",
       " ' current',\n",
       " ' vocabulary',\n",
       " ' in',\n",
       " ' the',\n",
       " ' order',\n",
       " ' of',\n",
       " ' the',\n",
       " ' `',\n",
       " 'special',\n",
       " '_',\n",
       " 'tokens',\n",
       " '`',\n",
       " ' list',\n",
       " '.']"
      ]
     },
     "execution_count": 8,
     "metadata": {},
     "output_type": "execute_result"
    }
   ],
   "source": [
    "re.findall(pat, sentence)"
   ]
  },
  {
   "cell_type": "code",
   "execution_count": null,
   "metadata": {},
   "outputs": [],
   "source": []
  }
 ],
 "metadata": {
  "interpreter": {
   "hash": "259b1443d2f3ede436584c99a3426e7f4871f561d41a643f73c403078a2e8218"
  },
  "kernelspec": {
   "display_name": "Python 3.10.4 ('pytorch')",
   "language": "python",
   "name": "python3"
  },
  "language_info": {
   "codemirror_mode": {
    "name": "ipython",
    "version": 3
   },
   "file_extension": ".py",
   "mimetype": "text/x-python",
   "name": "python",
   "nbconvert_exporter": "python",
   "pygments_lexer": "ipython3",
   "version": "3.10.4"
  },
  "orig_nbformat": 4
 },
 "nbformat": 4,
 "nbformat_minor": 2
}
